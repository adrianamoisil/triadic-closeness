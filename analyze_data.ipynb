{
 "cells": [
  {
   "cell_type": "code",
   "execution_count": 1,
   "metadata": {},
   "outputs": [
    {
     "name": "stderr",
     "output_type": "stream",
     "text": [
      "2022-12-16 14:47:54.291289: W tensorflow/stream_executor/platform/default/dso_loader.cc:64] Could not load dynamic library 'libcudart.so.11.0'; dlerror: libcudart.so.11.0: cannot open shared object file: No such file or directory\n",
      "2022-12-16 14:47:54.291321: I tensorflow/stream_executor/cuda/cudart_stub.cc:29] Ignore above cudart dlerror if you do not have a GPU set up on your machine.\n",
      "2022-12-16 14:47:56.571749: W tensorflow/stream_executor/platform/default/dso_loader.cc:64] Could not load dynamic library 'libcuda.so.1'; dlerror: libcuda.so.1: cannot open shared object file: No such file or directory\n",
      "2022-12-16 14:47:56.571768: W tensorflow/stream_executor/cuda/cuda_driver.cc:269] failed call to cuInit: UNKNOWN ERROR (303)\n",
      "2022-12-16 14:47:56.571784: I tensorflow/stream_executor/cuda/cuda_diagnostics.cc:156] kernel driver does not appear to be running on this host (adriana-ZenBook-UX391FA-UX391FA): /proc/driver/nvidia/version does not exist\n",
      "/home/adriana/.local/lib/python3.8/site-packages/spacy/language.py:1895: UserWarning: [W123] Argument disable with value [] is used instead of ['senter'] as specified in the config. Be aware that this might affect other components in your pipeline.\n",
      "  warnings.warn(\n"
     ]
    },
    {
     "name": "stdout",
     "output_type": "stream",
     "text": [
      "ID: 98801140\n",
      "tc_n\n",
      "tc_f\n",
      "tc_nf\n",
      "tc_fp\n",
      "tc_nfp\n",
      "tc_jn\n",
      "tc_jf\n",
      "tc_jfp\n"
     ]
    }
   ],
   "source": [
    "import os\n",
    "from triadic_closeness.triadic_closeness_classifier import TriadicClosenessClassifier\n",
    "from metrics.roc import compute_fpr_and_tpr\n",
    "from sklearn.metrics import roc_curve\n",
    "from ego_network import EgoNetwork, read_ego_network, get_ego_ids\n",
    "from triadic_closeness.triadic_closeness import compute_triadic_closeness_for_all_nodes\n",
    "from triadic_closeness.normalize import normalize_triadic_closeness\n",
    "from io_helpers.writers import write_ndarray_to_file\n",
    "\n",
    "\n",
    "DATASET_PATH = '/home/adriana/Documents/master/hands_on_recommender_systems/Project/data/ego-twitter/twitter'\n",
    "RESULTS_PATH = '/home/adriana/Documents/master/hands_on_recommender_systems/Project/data/ego-twitter/results'\n",
    "NORMALIZATION_METHODS = ['l1', 'l2', 'max']\n",
    "MODELS = {\n",
    "  'tc_n': {'weights_strategy': 'neighbours', 'use_preprocessed_features': False},\n",
    "  'tc_f': {'weights_strategy': 'features', 'use_preprocessed_features': False},\n",
    "  'tc_nf': {'weights_strategy': 'neighbours_features', 'use_preprocessed_features': False},\n",
    "  'tc_fp': {'weights_strategy': 'features', 'use_preprocessed_features': True},\n",
    "  'tc_nfp': {'weights_strategy': 'neighbours_features', 'use_preprocessed_features': True},\n",
    "  'tc_jn': {'weights_strategy': 'jaccard_neighbours', 'use_preprocessed_features': False},\n",
    "  'tc_jf': {'weights_strategy': 'jaccard_features', 'use_preprocessed_features': False},\n",
    "  'tc_jfp': {'weights_strategy': 'jaccard_features', 'use_preprocessed_features': True},\n",
    "}\n",
    "\n",
    "ids = get_ego_ids(DATASET_PATH)\n",
    "for id in ids:\n",
    "  print('ID:', id)\n",
    "  ego_network = read_ego_network(id, DATASET_PATH)\n",
    "  \n",
    "  results_directory_for_id = os.path.join(RESULTS_PATH, str(id))\n",
    "  os.makedirs(results_directory_for_id, exist_ok=True)\n",
    "\n",
    "  for (key, config) in MODELS.items():\n",
    "    print(key)\n",
    "    tc = compute_triadic_closeness_for_all_nodes(ego_network, \n",
    "                                                 weights_strategy=config['weights_strategy'],\n",
    "                                                 use_preprocessed_features=config['use_preprocessed_features'])\n",
    "    if not len(tc):\n",
    "      continue\n",
    "    for norm in NORMALIZATION_METHODS:\n",
    "      fpr, tpr = compute_fpr_and_tpr(normalize_triadic_closeness(tc, norm), ego_network)\n",
    "      if fpr is None:\n",
    "        continue\n",
    "      write_ndarray_to_file(fpr, os.path.join(results_directory_for_id, f'{key}_{norm}.fpr'))\n",
    "      write_ndarray_to_file(tpr, os.path.join(results_directory_for_id, f'{key}_{norm}.tpr'))\n",
    "\n"
   ]
  }
 ],
 "metadata": {
  "kernelspec": {
   "display_name": "Python 3.8.10 64-bit",
   "language": "python",
   "name": "python3"
  },
  "language_info": {
   "codemirror_mode": {
    "name": "ipython",
    "version": 3
   },
   "file_extension": ".py",
   "mimetype": "text/x-python",
   "name": "python",
   "nbconvert_exporter": "python",
   "pygments_lexer": "ipython3",
   "version": "3.8.10"
  },
  "orig_nbformat": 4,
  "vscode": {
   "interpreter": {
    "hash": "916dbcbb3f70747c44a77c7bcd40155683ae19c65e1c03b4aa3499c5328201f1"
   }
  }
 },
 "nbformat": 4,
 "nbformat_minor": 2
}
