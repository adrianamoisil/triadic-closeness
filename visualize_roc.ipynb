{
 "cells": [
  {
   "cell_type": "code",
   "execution_count": 1,
   "metadata": {},
   "outputs": [
    {
     "data": {
      "application/vnd.jupyter.widget-view+json": {
       "model_id": "a9765dec834342b88c2fe6dd94d816b8",
       "version_major": 2,
       "version_minor": 0
      },
      "text/plain": [
       "FileChooser(path='/home/adriana/Documents/master/hands_on_recommender_systems/Project/data/ego-twitter/results…"
      ]
     },
     "metadata": {},
     "output_type": "display_data"
    }
   ],
   "source": [
    "from ipywidgets.widgets import HBox, VBox, Label, Textarea, Button\n",
    "from IPython.display import display\n",
    "from ipyfilechooser import FileChooser\n",
    "\n",
    "RESULTS_PATH = '/home/adriana/Documents/master/hands_on_recommender_systems/Project/data/ego-twitter/results'\n",
    "\n",
    "def select_dir(fc):\n",
    "    global RESULTS_PATH\n",
    "    RESULTS_PATH = fc.selected\n",
    "\n",
    "fc = FileChooser(RESULTS_PATH)\n",
    "fc.register_callback(select_dir)\n",
    "fc.show_only_dirs = True\n",
    "fc.title = '<b>Please chose the folder where results are located</b>'\n",
    "\n",
    "display(fc)"
   ]
  },
  {
   "cell_type": "code",
   "execution_count": 2,
   "metadata": {},
   "outputs": [
    {
     "name": "stderr",
     "output_type": "stream",
     "text": [
      "/home/adriana/.local/lib/python3.8/site-packages/spacy/language.py:1895: UserWarning: [W123] Argument disable with value [] is used instead of ['senter'] as specified in the config. Be aware that this might affect other components in your pipeline.\n",
      "  warnings.warn(\n"
     ]
    },
    {
     "data": {
      "application/vnd.jupyter.widget-view+json": {
       "model_id": "7b3192c60bf5483fa80b87c82b51fb29",
       "version_major": 2,
       "version_minor": 0
      },
      "text/plain": [
       "HBox(children=(Output(), VBox(children=(HBox(children=(Label(value='Ego Network Id:'), Dropdown(layout=Layout(…"
      ]
     },
     "metadata": {},
     "output_type": "display_data"
    }
   ],
   "source": [
    "%matplotlib inline\n",
    "import os\n",
    "os.environ['TF_CPP_MIN_LOG_LEVEL'] = '3' \n",
    "import logging\n",
    "logger = logging.getLogger(\"spacy\")\n",
    "logger.setLevel(logging.ERROR)\n",
    "\n",
    "from ipywidgets.widgets import Layout, VBox, HBox, Dropdown, Label, Checkbox, Output, GridspecLayout\n",
    "from IPython.display import display\n",
    "import os\n",
    "from ego_network import get_ego_ids\n",
    "from metrics.roc import plot_roc_curve, plot_empty_roc_curve\n",
    "from io_helpers.readers import read_ndarray_from_file\n",
    "from models import Model, MODELS, NORMALIZATION_METHODS\n",
    "\n",
    "\n",
    "selected_ego_network_id = None\n",
    "selections = set()\n",
    "\n",
    "\n",
    "def _update_plot_output(output):\n",
    "    with output:\n",
    "        output.clear_output(wait=True)\n",
    "        results_dict = {}\n",
    "        for (model, normalization_method) in selections:\n",
    "            results_directory_for_id = os.path.join(RESULTS_PATH, str(selected_ego_network_id))\n",
    "            try:\n",
    "                fpr = read_ndarray_from_file(os.path.join(results_directory_for_id, f'{model.file_prefix}_{normalization_method}.fpr'))\n",
    "                tpr = read_ndarray_from_file(os.path.join(results_directory_for_id, f'{model.file_prefix}_{normalization_method}.tpr'))\n",
    "            except:\n",
    "                continue\n",
    "            results_dict[f'{model.display_name} {normalization_method}'] = {'fpr': fpr, 'tpr': tpr}\n",
    "        plot_roc_curve(results_dict, selected_ego_network_id)\n",
    "\n",
    "\n",
    "def _on_ids_widget_clicked(event, output: Output):\n",
    "    if event['name'] != 'value':\n",
    "        return\n",
    "    global selected_ego_network_id\n",
    "    selected_ego_network_id = event['new']\n",
    "    _update_plot_output(output)\n",
    "\n",
    "\n",
    "def _build_ids_widget(output: Output):\n",
    "    ids = get_ego_ids(RESULTS_PATH, order_by_edges_size=False)\n",
    "    global selected_ego_network_id\n",
    "    selected_ego_network_id = ids[0]\n",
    "    \n",
    "    dropdown_widget = Dropdown(options=ids,\n",
    "                               disabled=False,\n",
    "                               overflow='visible',\n",
    "                               layout={'width': 'max-content'})\n",
    "    dropdown_widget.observe(lambda event: _on_ids_widget_clicked(event, output))\n",
    "    return HBox([Label('Ego Network Id:'), dropdown_widget])\n",
    "\n",
    "\n",
    "\n",
    "def _on_normalization_method_checkbox_click(model: Model, normalization_method: str, event, output: Output):\n",
    "    if event['name'] != 'value':\n",
    "        return\n",
    "\n",
    "    value = event['new']\n",
    "    if value:\n",
    "        selections.add((model, normalization_method))\n",
    "    else:\n",
    "        selections.remove((model, normalization_method))\n",
    "    _update_plot_output(output)\n",
    "\n",
    "\n",
    "def _build_normalization_method_widget(model: Model, normalization_method: str, output: Output):\n",
    "    widget = Checkbox(\n",
    "        value=False,\n",
    "        description=normalization_method,\n",
    "        disabled=False,\n",
    "        indent=False\n",
    "    )\n",
    "    widget.observe(lambda event: \\\n",
    "        _on_normalization_method_checkbox_click(model, \n",
    "                                                normalization_method, \n",
    "                                                event,\n",
    "                                                output))\n",
    "    return widget\n",
    "\n",
    "\n",
    "def _build_models_widget(output: Output):\n",
    "    models_layout = GridspecLayout(len(MODELS) * len(NORMALIZATION_METHODS), 2, width='350px')\n",
    "    for index in range(len(MODELS)):\n",
    "        model = MODELS[index]\n",
    "        models_layout[index * len(NORMALIZATION_METHODS), 0] = Label(model.display_name)\n",
    "        for method_index in range(len(NORMALIZATION_METHODS)):\n",
    "            method = NORMALIZATION_METHODS[method_index]\n",
    "            models_layout[index * len(NORMALIZATION_METHODS) + method_index, 1] =\\\n",
    "                _build_normalization_method_widget(model, method, output)\n",
    "    return VBox([\n",
    "        Label('Models:'),\n",
    "        models_layout\n",
    "    ])\n",
    "\n",
    "\n",
    "plot_output = Output()\n",
    "widgets_vbox = VBox([      \n",
    "    _build_ids_widget(plot_output),\n",
    "    _build_models_widget(plot_output),\n",
    "], layout = Layout(\n",
    "    margin = '5px'\n",
    "    \n",
    "))\n",
    "widgets_vbox.layout.add_traits()\n",
    "\n",
    "main_box = HBox([plot_output, widgets_vbox])\n",
    "display(main_box)\n",
    "\n",
    "with plot_output:\n",
    "    plot_empty_roc_curve(selected_ego_network_id)\n"
   ]
  }
 ],
 "metadata": {
  "kernelspec": {
   "display_name": "Python 3.8.10 64-bit",
   "language": "python",
   "name": "python3"
  },
  "language_info": {
   "codemirror_mode": {
    "name": "ipython",
    "version": 3
   },
   "file_extension": ".py",
   "mimetype": "text/x-python",
   "name": "python",
   "nbconvert_exporter": "python",
   "pygments_lexer": "ipython3",
   "version": "3.8.10"
  },
  "orig_nbformat": 4,
  "vscode": {
   "interpreter": {
    "hash": "916dbcbb3f70747c44a77c7bcd40155683ae19c65e1c03b4aa3499c5328201f1"
   }
  }
 },
 "nbformat": 4,
 "nbformat_minor": 2
}
